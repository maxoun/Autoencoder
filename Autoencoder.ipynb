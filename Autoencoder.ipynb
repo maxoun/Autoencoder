{
 "cells": [
  {
   "cell_type": "code",
   "execution_count": 1,
   "id": "747f12fa-3796-4a5b-ac1f-215a798843cb",
   "metadata": {},
   "outputs": [],
   "source": [
    "import numpy as np\n",
    "import matplotlib.pyplot as plt\n",
    "from keras.datasets import mnist\n",
    "from tqdm import tqdm"
   ]
  },
  {
   "cell_type": "code",
   "execution_count": 5,
   "id": "c8180f68-2a9b-4b93-81c4-a1eb17ca601b",
   "metadata": {},
   "outputs": [],
   "source": [
    "class Autoencoder:\n",
    "    def __init__(self, x_train, x_test, epochs=300, learning_rate=0.1, batch_size=196):         \n",
    "        self.x_train = x_train\n",
    "        self.x_test = x_test\n",
    "        self.input_dim = x_train.shape[1] \n",
    "        self.hidden_dim = 128 \n",
    "        self.output_dim = self.input_dim\n",
    "        self.epochs = epochs\n",
    "        self.learning_rate = learning_rate\n",
    "        self.batch_size = batch_size\n",
    "        \n",
    "        self.W1 = np.random.randn(self.input_dim, self.hidden_dim)\n",
    "        self.b1 = np.zeros(self.hidden_dim)         \n",
    "        self.W2 = np.random.randn(self.hidden_dim, self.output_dim)\n",
    "        self.b2 = np.zeros(self.output_dim)\n",
    "        \n",
    "        \n",
    "    def sigmoid(self, x):\n",
    "        return 1 / (1 + np.exp(-x))\n",
    "\n",
    "    def sigmoid_derivative(self, x):\n",
    "        return self.sigmoid(x) * (1 - self.sigmoid(x))\n",
    "    \n",
    "    def run(self):\n",
    "        for epoch in tqdm(range(self.epochs)):\n",
    "            np.random.shuffle(self.x_train)\n",
    "            for i in range(0, len(self.x_train), self.batch_size):\n",
    "                x_batch = self.x_train[i:i+self.batch_size]\n",
    "\n",
    "                z1 = np.dot(x_batch, self.W1) + self.b1\n",
    "                a1 = self.sigmoid(z1)\n",
    "\n",
    "                z2 = np.dot(a1, self.W2) + self.b2\n",
    "                a2 = self.sigmoid(z2)\n",
    "\n",
    "                error = a2 - x_batch\n",
    "\n",
    "                delta2 = error * self.sigmoid_derivative(z2)\n",
    "                dW2 = np.dot(a1.T, delta2)\n",
    "                db2 = np.sum(delta2, axis=0)\n",
    "\n",
    "                delta1 = np.dot(delta2, self.W2.T) * self.sigmoid_derivative(z1)\n",
    "                dW1 = np.dot(x_batch.T, delta1)\n",
    "                db1 = np.sum(delta1, axis=0)\n",
    "\n",
    "                self.W1 -= self.learning_rate * dW1 / self.batch_size\n",
    "                self.b1 -= self.learning_rate * db1 / self.batch_size\n",
    "                self.W2 -= self.learning_rate * dW2 / self.batch_size\n",
    "                self.b2 -= self.learning_rate * db2 / self.batch_size\n",
    "                \n",
    "    def visualization(self):        \n",
    "        z1_test = np.dot(self.x_test, self.W1) + self.b1\n",
    "        a1_test = self.sigmoid(z1_test)\n",
    "        z2_test = np.dot(a1_test, self.W2) + self.b2\n",
    "        a2_test = self.sigmoid(z2_test)\n",
    "        \n",
    "        plt.figure(figsize=(20, 4))\n",
    "        for num, index in enumerate([0,1,2,3,4,7,8,11,18,61]):\n",
    "            ax = plt.subplot(2, 10, num + 1)\n",
    "            plt.imshow(x_test[index].reshape(28, 28))\n",
    "            plt.gray()\n",
    "            ax.get_xaxis().set_visible(False)\n",
    "            ax.get_yaxis().set_visible(False)\n",
    "\n",
    "            ax = plt.subplot(2, 10, num + 1 + 10)\n",
    "            plt.imshow(a2_test[index].reshape(28, 28))\n",
    "            plt.gray()\n",
    "            ax.get_xaxis().set_visible(False)\n",
    "            ax.get_yaxis().set_visible(False)\n",
    "        plt.show()"
   ]
  },
  {
   "cell_type": "code",
   "execution_count": 3,
   "id": "ec9b3036-b1bc-46b4-a09a-d98bd32d0902",
   "metadata": {},
   "outputs": [],
   "source": [
    "(x_train, y_train), (x_test, y_test) = mnist.load_data()\n",
    "# нормализуем наши значения пикселей\n",
    "x_train = x_train / 255\n",
    "x_test = x_test / 255\n",
    "# превратим нашу матрицу пикселей в вектор\n",
    "x_train = x_train.reshape((len(x_train), np.prod(x_train.shape[1:])))\n",
    "x_test = x_test.reshape((len(x_test), np.prod(x_test.shape[1:])))"
   ]
  },
  {
   "cell_type": "code",
   "execution_count": 6,
   "id": "625a4322-cde5-4e49-a94c-607220cab692",
   "metadata": {},
   "outputs": [
    {
     "name": "stderr",
     "output_type": "stream",
     "text": [
      "100%|████████████████████████████████████████████████████████████████████████████████| 300/300 [21:45<00:00,  4.35s/it]\n"
     ]
    }
   ],
   "source": [
    "acd = Autoencoder(x_train, x_test)\n",
    "acd.run()"
   ]
  },
  {
   "cell_type": "code",
   "execution_count": 7,
   "id": "7249d8b5-27e8-4169-abb0-f7cddfd56519",
   "metadata": {},
   "outputs": [
    {
     "data": {
      "image/png": "[encoded data removed]",
      "text/plain": [
       "<Figure size 1440x288 with 20 Axes>"
      ]
     },
     "metadata": {
      "needs_background": "light"
     },
     "output_type": "display_data"
    }
   ],
   "source": [
    "acd.visualization()"
   ]
  }
 ],
 "metadata": {
  "kernelspec": {
   "display_name": "Python 3 (ipykernel)",
   "language": "python",
   "name": "python3"
  },
  "language_info": {
   "codemirror_mode": {
    "name": "ipython",
    "version": 3
   },
   "file_extension": ".py",
   "mimetype": "text/x-python",
   "name": "python",
   "nbconvert_exporter": "python",
   "pygments_lexer": "ipython3",
   "version": "3.8.10"
  }
 },
 "nbformat": 4,
 "nbformat_minor": 5
}
